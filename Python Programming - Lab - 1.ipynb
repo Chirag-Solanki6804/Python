{
 "cells": [
  {
   "cell_type": "code",
   "execution_count": 23,
   "metadata": {},
   "outputs": [
    {
     "ename": "SyntaxError",
     "evalue": "invalid syntax (1163975353.py, line 2)",
     "output_type": "error",
     "traceback": [
      "\u001b[1;36m  File \u001b[1;32m\"C:\\Users\\chirag\\AppData\\Local\\Temp\\ipykernel_1320\\1163975353.py\"\u001b[1;36m, line \u001b[1;32m2\u001b[0m\n\u001b[1;33m    <pre>\u001b[0m\n\u001b[1;37m    ^\u001b[0m\n\u001b[1;31mSyntaxError\u001b[0m\u001b[1;31m:\u001b[0m invalid syntax\n"
     ]
    }
   ],
   "source": [
    "# <a href='https://www.darshan.ac.in/'> <img src='https://www.darshan.ac.in/Content/media/DU_Logo.svg' width=\"250\" height=\"300\"/></a>\n",
    "<pre>\n",
    "<center><b><h1>Python Programming - 2101CS405</b></center>\n",
    "<center><b><h1>Lab - 1</b></center>    \n",
    "<pre>"
   ]
  },
  {
   "cell_type": "markdown",
   "metadata": {},
   "source": [
    "### 01) WAP to print “Hello World”"
   ]
  },
  {
   "cell_type": "code",
   "execution_count": 1,
   "metadata": {},
   "outputs": [
    {
     "name": "stdout",
     "output_type": "stream",
     "text": [
      "Hello World\n"
     ]
    }
   ],
   "source": [
    "print(\"Hello World\");"
   ]
  },
  {
   "cell_type": "markdown",
   "metadata": {},
   "source": [
    "### 02) WAP to print your address i) using single print ii) using multiple print"
   ]
  },
  {
   "cell_type": "code",
   "execution_count": 2,
   "metadata": {},
   "outputs": [
    {
     "name": "stdout",
     "output_type": "stream",
     "text": [
      "ranaKhirsara,porbandar,gujarat\n",
      "ranaKhirsara,porbandar,gujarat"
     ]
    }
   ],
   "source": [
    "print(\"ranaKhirsara,porbandar,gujarat\");\n",
    "print(\"ranaKhirsara,\",end=\"\");\n",
    "print(\"porbandar,\",end=\"\");\n",
    "print(\"gujarat\",end=\"\")"
   ]
  },
  {
   "cell_type": "markdown",
   "metadata": {},
   "source": [
    "### 03) WAP to print addition of 2 numbers (without input function)"
   ]
  },
  {
   "cell_type": "code",
   "execution_count": 7,
   "metadata": {},
   "outputs": [
    {
     "name": "stdout",
     "output_type": "stream",
     "text": [
      "30\n"
     ]
    }
   ],
   "source": [
    "a=10;\n",
    "b=20;\n",
    "print(a+b);"
   ]
  },
  {
   "cell_type": "markdown",
   "metadata": {},
   "source": [
    "### 04) WAP to calculate and print average of 2 numbers (without input function)"
   ]
  },
  {
   "cell_type": "code",
   "execution_count": 4,
   "metadata": {},
   "outputs": [
    {
     "name": "stdout",
     "output_type": "stream",
     "text": [
      "15\n"
     ]
    }
   ],
   "source": [
    "a=10;\n",
    "b=20;\n",
    "print((a+b)//2);"
   ]
  },
  {
   "cell_type": "markdown",
   "metadata": {},
   "source": [
    "### 05) WAP to add two number entered by user."
   ]
  },
  {
   "cell_type": "code",
   "execution_count": 5,
   "metadata": {},
   "outputs": [
    {
     "name": "stdout",
     "output_type": "stream",
     "text": [
      "Enter First Number :25\n",
      "Enter Second Number :32\n",
      "25 + 32 = 57\n"
     ]
    }
   ],
   "source": [
    "num1=int(input(\"Enter First Number :\"));\n",
    "num2=int(input(\"Enter Second Number :\"));\n",
    "print(num1,\"+\",num2,\"=\",num1+num2);"
   ]
  },
  {
   "cell_type": "markdown",
   "metadata": {},
   "source": [
    "### 06) WAP to calculate simple interest."
   ]
  },
  {
   "cell_type": "code",
   "execution_count": 4,
   "metadata": {},
   "outputs": [
    {
     "name": "stdout",
     "output_type": "stream",
     "text": [
      "Enter Principle :100\n",
      "Enter rate :1\n",
      "Enter Number of Terms :1\n",
      "Simple intersert : 1.0\n"
     ]
    }
   ],
   "source": [
    "p=int(input(\"Enter Principle :\"));\n",
    "r=int(input(\"Enter rate :\"));\n",
    "n=int(input(\"Enter Number of Terms :\"));\n",
    "print(\"Simple intersert :\",(p*r*n)/100)"
   ]
  },
  {
   "cell_type": "markdown",
   "metadata": {},
   "source": [
    "### 07) WAP Calculate Area and Circumfrence of Circle"
   ]
  },
  {
   "cell_type": "code",
   "execution_count": 7,
   "metadata": {},
   "outputs": [
    {
     "name": "stdout",
     "output_type": "stream",
     "text": [
      "Enter Radius:3.15\n",
      "Area : 31.15665\n",
      "Circumfrence : 19.782\n"
     ]
    }
   ],
   "source": [
    "r=float(input(\"Enter Radius:\"));\n",
    "print(\"Area :\",(r*r)*3.14);\n",
    "print(\"Circumfrence :\",3.14*2*r);"
   ]
  },
  {
   "cell_type": "markdown",
   "metadata": {},
   "source": [
    "### 08) WAP to print Multiplication table of given number without using loops."
   ]
  },
  {
   "cell_type": "code",
   "execution_count": 6,
   "metadata": {},
   "outputs": [
    {
     "name": "stdout",
     "output_type": "stream",
     "text": [
      "Enter Number :20\n",
      "20 * 1 = 20\n",
      "20 * 2 = 40\n",
      "20 * 3 = 60\n",
      "20 * 4 = 80\n",
      "20 * 5 = 100\n",
      "20 * 6 = 120\n",
      "20 * 7 = 140\n",
      "20 * 8 = 160\n",
      "20 * 9 = 180\n",
      "20 * 10 = 200\n"
     ]
    }
   ],
   "source": [
    "a=int(input(\"Enter Number :\"));\n",
    "print(a,'*',1,'=',a*1,sep=' ');\n",
    "print(a,'*',2,'=',a*2,sep=' ');\n",
    "print(a,'*',3,'=',a*3,sep=' ');\n",
    "print(a,'*',4,'=',a*4,sep=' ');\n",
    "print(a,'*',5,'=',a*5,sep=' ');\n",
    "print(a,'*',6,'=',a*6,sep=' ');\n",
    "print(a,'*',7,'=',a*7,sep=' ');\n",
    "print(a,'*',8,'=',a*8,sep=' ');\n",
    "print(a,'*',9,'=',a*9,sep=' ');\n",
    "print(a,'*',10,'=',a*10,sep=' ');"
   ]
  },
  {
   "cell_type": "markdown",
   "metadata": {},
   "source": [
    "### 09) WAP to calculate Area of Triangle (hint: a = h * b * 0.5)"
   ]
  },
  {
   "cell_type": "code",
   "execution_count": 11,
   "metadata": {},
   "outputs": [
    {
     "name": "stdout",
     "output_type": "stream",
     "text": [
      "Enter Height :5\n",
      "Enter Base :6\n",
      "area is 15.0\n"
     ]
    }
   ],
   "source": [
    "h=float(input(\"Enter Height :\"));\n",
    "b=float(input(\"Enter Base :\"));\n",
    "print(\"area is\",h*b*0.5);"
   ]
  },
  {
   "cell_type": "markdown",
   "metadata": {},
   "source": [
    "### 10) WAP to convert degree to Fahrenheit and vice versa."
   ]
  },
  {
   "cell_type": "code",
   "execution_count": 13,
   "metadata": {},
   "outputs": [
    {
     "name": "stdout",
     "output_type": "stream",
     "text": [
      "Enter temp in cel :54\n",
      "129.2\n",
      "Enter temp in feh :129\n",
      "53.888888888888886\n"
     ]
    }
   ],
   "source": [
    "cel=int(input(\"Enter temp in cel :\"));\n",
    "feh=(cel*1.8)+32;\n",
    "print(feh);\n",
    "\n",
    "feh=int(input(\"Enter temp in feh :\"));\n",
    "cel=(feh-32)/1.8;\n",
    "print(cel);"
   ]
  },
  {
   "cell_type": "markdown",
   "metadata": {},
   "source": [
    "### 11) WAP to calculate total marks and Percentage."
   ]
  },
  {
   "cell_type": "code",
   "execution_count": 15,
   "metadata": {},
   "outputs": [
    {
     "name": "stdout",
     "output_type": "stream",
     "text": [
      "Enter Marks of subject1:50\n",
      "Enter Marks of subject2:60\n",
      "Enter Marks of subject3:64\n",
      "Enter Marks of subject4:92\n",
      "Enter Marks of subject5:69\n",
      "Total Marks 335.0 and Percentage 67.0\n"
     ]
    }
   ],
   "source": [
    "sub1=float(input(\"Enter Marks of subject1:\"));\n",
    "sub2=float(input(\"Enter Marks of subject2:\"));\n",
    "sub3=float(input(\"Enter Marks of subject3:\"));\n",
    "sub4=float(input(\"Enter Marks of subject4:\"));\n",
    "sub5=float(input(\"Enter Marks of subject5:\"));\n",
    "total=sub1+sub2+sub3+sub4+sub5;\n",
    "per=total/5;\n",
    "print(\"Total Marks\",total,\"and Percentage\",per);"
   ]
  },
  {
   "cell_type": "markdown",
   "metadata": {},
   "source": [
    "### 12) Compute distance between two points taking input from the user (Pythagorean Theorem)."
   ]
  },
  {
   "cell_type": "code",
   "execution_count": 16,
   "metadata": {},
   "outputs": [
    {
     "name": "stdout",
     "output_type": "stream",
     "text": [
      "Enter x1:1\n",
      "Enter y1:2\n",
      "Enter x2:3\n",
      "Enter y2:4\n",
      "distance : 2.8284271247461903\n"
     ]
    }
   ],
   "source": [
    "x1=int(input(\"Enter x1:\"));\n",
    "y1=int(input(\"Enter y1:\"));\n",
    "x2=int(input(\"Enter x2:\"));\n",
    "y2=int(input(\"Enter y2:\"));\n",
    "print(\"distance :\",(((x2-x1)**2)+((y2-y1)**2))**0.5);"
   ]
  },
  {
   "cell_type": "markdown",
   "metadata": {},
   "source": [
    "### 13) WAP to convert seconds into hours, minutes & seconds and print in HH:MM:SS\n",
    "[e.g. 10000 seconds mean 2:46:40 (2 Hours, 46 Minutes, 40Seconds)]"
   ]
  },
  {
   "cell_type": "code",
   "execution_count": 19,
   "metadata": {},
   "outputs": [
    {
     "name": "stdout",
     "output_type": "stream",
     "text": [
      "Enter Total Seconds :6954\n",
      "1 Hours, 55 Minutes, 54 Seconds\n"
     ]
    }
   ],
   "source": [
    "inputSec=int(input(\"Enter Total Seconds :\"))\n",
    "hours=inputSec//3600\n",
    "remainSec=inputSec-(hours*3600)\n",
    "minutes=remainSec//60\n",
    "remainSec=remainSec-(minutes*60)\n",
    "print(hours,\"Hours,\",minutes,\"Minutes,\",remainSec,\"Seconds\")"
   ]
  },
  {
   "cell_type": "markdown",
   "metadata": {},
   "source": [
    "### 14) WAP to enter distance into kilometer and convert it into meter, feet,inches, and centimeter"
   ]
  },
  {
   "cell_type": "code",
   "execution_count": 22,
   "metadata": {},
   "outputs": [
    {
     "name": "stdout",
     "output_type": "stream",
     "text": [
      "Enter distance in km:26\n",
      "kilometer : 26\n",
      "meter : 26000\n",
      "feet : 85301.84\n",
      "inch : 1023622.08\n"
     ]
    }
   ],
   "source": [
    "km=int(input(\"Enter distance in km:\"));\n",
    "m=km*1000;\n",
    "f=m*3.28084;\n",
    "i=f*12;\n",
    "c=i*2.54;\n",
    "print(\"kilometer :\",km);\n",
    "print(\"meter :\",m);\n",
    "print(\"feet :\",f);\n",
    "print(\"inch :\",i)"
   ]
  },
  {
   "cell_type": "code",
   "execution_count": null,
   "metadata": {},
   "outputs": [],
   "source": []
  }
 ],
 "metadata": {
  "kernelspec": {
   "display_name": "Python 3 (ipykernel)",
   "language": "python",
   "name": "python3"
  },
  "language_info": {
   "codemirror_mode": {
    "name": "ipython",
    "version": 3
   },
   "file_extension": ".py",
   "mimetype": "text/x-python",
   "name": "python",
   "nbconvert_exporter": "python",
   "pygments_lexer": "ipython3",
   "version": "3.9.13"
  }
 },
 "nbformat": 4,
 "nbformat_minor": 4
}
