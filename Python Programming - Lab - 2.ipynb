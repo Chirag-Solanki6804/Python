{
 "cells": [
  {
   "cell_type": "markdown",
   "metadata": {},
   "source": [
    "\n",
    "<a href='https://www.darshan.ac.in/'> <img src='https://www.darshan.ac.in/Content/media/DU_Logo.svg' width=\"250\" height=\"300\"/></a>\n",
    "<pre>\n",
    "<center><b><h1>Python Programming - 2101CS405</b></center>\n",
    "<center><b><h1>Lab - 2</b></center>    \n",
    "<pre>"
   ]
  },
  {
   "cell_type": "markdown",
   "metadata": {},
   "source": [
    "# if..else.."
   ]
  },
  {
   "cell_type": "markdown",
   "metadata": {},
   "source": [
    "### 01) WAP to check whether the given number is positive or negative."
   ]
  },
  {
   "cell_type": "code",
   "execution_count": 3,
   "metadata": {},
   "outputs": [
    {
     "name": "stdout",
     "output_type": "stream",
     "text": [
      "Enter Number :-8\n",
      "-8 Negative Number\n"
     ]
    }
   ],
   "source": [
    "num=int(input(\"Enter Number :\"))\n",
    "if num>=0:\n",
    "    print(num,\"Positive Number\")\n",
    "else:\n",
    "    print(num,\"Negative Number\")"
   ]
  },
  {
   "cell_type": "markdown",
   "metadata": {},
   "source": [
    "### 02) WAP to check whether the given number is odd or even"
   ]
  },
  {
   "cell_type": "code",
   "execution_count": 5,
   "metadata": {},
   "outputs": [
    {
     "name": "stdout",
     "output_type": "stream",
     "text": [
      "Enter Number :5\n",
      "5 is Odd Number\n"
     ]
    }
   ],
   "source": [
    "num=int(input(\"Enter Number :\"))\n",
    "if num%2==0:\n",
    "    print(num,\"is Even Number\")\n",
    "else:\n",
    "    print(num,\"is Odd Number\")"
   ]
  },
  {
   "cell_type": "markdown",
   "metadata": {},
   "source": [
    "### 03) WAP to find out largest number from given two numbers using simple if and ternary operator."
   ]
  },
  {
   "cell_type": "code",
   "execution_count": 10,
   "metadata": {},
   "outputs": [
    {
     "name": "stdout",
     "output_type": "stream",
     "text": [
      "Enter Number 1 :54\n",
      "Enter Number 2 :62\n",
      "62 is largest number\n"
     ]
    }
   ],
   "source": [
    "num1=int(input(\"Enter Number 1 :\"))\n",
    "num2=int(input(\"Enter Number 2 :\"))\n",
    "print(num1,\"is largest number\") if num1>num2 else print(num2,\"is largest number\")"
   ]
  },
  {
   "cell_type": "markdown",
   "metadata": {},
   "source": [
    "### 04) WAP to find out largest number from given three numbers."
   ]
  },
  {
   "cell_type": "code",
   "execution_count": 12,
   "metadata": {},
   "outputs": [
    {
     "name": "stdout",
     "output_type": "stream",
     "text": [
      "Enter Number 1 :45\n",
      "Enter Number 2 :36\n",
      "Enter Number 3 :33\n",
      "45 is largest number\n"
     ]
    }
   ],
   "source": [
    "num1=int(input(\"Enter Number 1 :\"))\n",
    "num2=int(input(\"Enter Number 2 :\"))\n",
    "num3=int(input(\"Enter Number 3 :\"))\n",
    "if num1>num2:\n",
    "    if num1>num3:\n",
    "        print(num1,\"is largest number\")\n",
    "    else:\n",
    "        print(num3,\"is largest number\")\n",
    "elif num2>num3:\n",
    "    print(num2,\"is largest number\")\n",
    "else:\n",
    "    print(num3,\"is largest number\")\n",
    "    "
   ]
  },
  {
   "cell_type": "markdown",
   "metadata": {},
   "source": [
    "### 05) WAP to check whether the given year is leap year or not.\n",
    "[If a year can be divisible by 4 but not divisible by 100 then it is leap year but if it is divisible by 400 then it is leap year]"
   ]
  },
  {
   "cell_type": "code",
   "execution_count": 18,
   "metadata": {},
   "outputs": [
    {
     "name": "stdout",
     "output_type": "stream",
     "text": [
      "Enter year to check leap or not leap year2028\n",
      "2028 is leap year\n"
     ]
    }
   ],
   "source": [
    "year=int(input(\"Enter year to check leap or not leap year\"))\n",
    "if year%400==0:\n",
    "    print(year,\"is leap year\")\n",
    "elif year%4==0 and year%100!=0:\n",
    "    print(year,\"is leap year\")\n",
    "else:\n",
    "    print(year,\"is not leap year\")"
   ]
  },
  {
   "cell_type": "markdown",
   "metadata": {},
   "source": [
    "### 06) WAP in python to display the name of the day according to the number given by the user"
   ]
  },
  {
   "cell_type": "code",
   "execution_count": 23,
   "metadata": {},
   "outputs": [
    {
     "name": "stdout",
     "output_type": "stream",
     "text": [
      "Enter Number of Day10\n"
     ]
    }
   ],
   "source": [
    "day=int(input(\"Enter Number of Day\"))\n",
    "# match day:\n",
    "#     case 1:\n",
    "#         print(\"Monday\")\n",
    "#     case 2:\n",
    "#         print(\"Tuesday\")\n",
    "#     case 3:\n",
    "#         print(\"Wednesday\")\n",
    "#     case 4:\n",
    "#         print(\"Thursday\")\n",
    "#     case 5:\n",
    "#         print(\"Friday\")\n",
    "#     case 6:\n",
    "#         print(\"Saturday\")\n",
    "#     case 7:\n",
    "#         print(\"Sunday\")"
   ]
  },
  {
   "cell_type": "markdown",
   "metadata": {},
   "source": [
    "### 07) WAP to implement simple calculator which performs (add,sub,mul,div) of two no. based on user input."
   ]
  },
  {
   "cell_type": "code",
   "execution_count": 25,
   "metadata": {},
   "outputs": [
    {
     "name": "stdout",
     "output_type": "stream",
     "text": [
      "Enter Number 1 :52\n",
      "Enter Number 2 :36\n",
      "Enter opration to Perform :*\n",
      "52 * 52 = 1872\n"
     ]
    }
   ],
   "source": [
    "num1=int(input(\"Enter Number 1 :\"))\n",
    "num2=int(input(\"Enter Number 2 :\"))\n",
    "op=input(\"Enter opration to Perform :\")\n",
    "if op==\"+\":\n",
    "    print(num1,\"+\",num1,\"=\",num1+num2)\n",
    "elif op==\"-\":\n",
    "    print(num1,\"-\",num1,\"=\",num1-num2)\n",
    "elif op==\"*\":\n",
    "    print(num1,\"*\",num1,\"=\",num1*num2)\n",
    "elif op==\"/\":\n",
    "    print(num1,\"/\",num1,\"=\",num1/num2)\n",
    "else:\n",
    "    print(\"Enter Valid opration\")"
   ]
  },
  {
   "cell_type": "markdown",
   "metadata": {},
   "source": [
    "### 08) WAP to calculate electricity bill based on following criteria. Which takes the unit from the user.\n",
    "a. First 1 to 50 units – Rs. 2.60/unit</br>\n",
    "b. Next 50 to 100 units – Rs. 3.25/unit</br>\n",
    "c. Next 100 to 200 units – Rs. 5.26/unit</br>\n",
    "d. above 200 units – Rs. 8.45/unit"
   ]
  },
  {
   "cell_type": "code",
   "execution_count": null,
   "metadata": {},
   "outputs": [],
   "source": [
    "unit=int(input(\"Enter Total Unit\"))\n",
    "rs=0\n",
    "if unit<50:\n",
    "    rs=unit*2.60\n",
    "elif unit<100:\n",
    "    temp=50*2.60\n",
    "    remainUnit=unit-50;\n",
    "    rs=(remainUnit*3.25)+temp\n",
    "elif unit<200:\n",
    "    temp=50*2.60;\n",
    "    temp2=50*3.25\n",
    "    remainUnit=unit-100\n",
    "    rs=(remainUnit*5.26)+temp+temp2\n",
    "elif unit>200:\n",
    "    temp=50*2.60;\n",
    "    temp2=50*3.25\n",
    "    temp3=100*5.26\n",
    "    remainUnit=unit-200\n",
    "    rs=(remainUnit*8.45)+temp+temp2+temp3\n",
    "print(\"Electricity Bill :\",rs,\"RS\")"
   ]
  },
  {
   "cell_type": "markdown",
   "metadata": {},
   "source": [
    "### 01) WAP to read marks of five subjects. Calculate percentage and print class accordingly. \n",
    "Fail below 35 </br>\n",
    "Pass Class between 35 to 45 </br>\n",
    "Second Class</br>\n",
    "between 45 to 60</br>\n",
    "First Class between 60 to 70</br> \n",
    "Distinction if more than 70"
   ]
  },
  {
   "cell_type": "code",
   "execution_count": 2,
   "metadata": {},
   "outputs": [
    {
     "name": "stdout",
     "output_type": "stream",
     "text": [
      "Enter Marks of Maths :32\n",
      "Enter Marks of Chemistry :39\n",
      "Enter Marks of Physics :42\n",
      "Enter Marks of Computer :36\n",
      "Enter Marks of English :64\n",
      "Pass Class\n"
     ]
    }
   ],
   "source": [
    "maths=int(input(\"Enter Marks of Maths :\"))\n",
    "chem=int(input(\"Enter Marks of Chemistry :\"))\n",
    "physics=int(input(\"Enter Marks of Physics :\"))\n",
    "comp=int(input(\"Enter Marks of Computer :\"))\n",
    "eng=int(input(\"Enter Marks of English :\"))\n",
    "total=maths+chem+physics+comp+eng\n",
    "per=total//5\n",
    "if per<35:\n",
    "    print(\"Fail\")\n",
    "elif per<45:\n",
    "    print(\"Pass Class\")\n",
    "elif per<60:\n",
    "    print(\"Second Class\")\n",
    "elif per<70:\n",
    "    print(\"First Class\")\n",
    "else:\n",
    "    print(\"Distinction\")"
   ]
  },
  {
   "cell_type": "markdown",
   "metadata": {},
   "source": [
    "### 02) WAP to find out the Maximum and Minimum number from given 4 numbers."
   ]
  },
  {
   "cell_type": "code",
   "execution_count": 4,
   "metadata": {},
   "outputs": [
    {
     "name": "stdout",
     "output_type": "stream",
     "text": [
      "Enter Number 1 :10\n",
      "Enter Number 2 :20\n",
      "Enter Number 3 :30\n",
      "Enter Number 4 :40\n",
      "40 is Maximum Number\n",
      "10 is Minimum Number\n"
     ]
    }
   ],
   "source": [
    "num1=int(input(\"Enter Number 1 :\"))\n",
    "num2=int(input(\"Enter Number 2 :\"))\n",
    "num3=int(input(\"Enter Number 3 :\"))\n",
    "num4=int(input(\"Enter Number 4 :\"))\n",
    "if num1>num2 and num1>num3 and num1>num4:\n",
    "    print(num1,\"is Maximum Number\")\n",
    "elif num2>num1 and num2>num3 and num2>num4:\n",
    "    print(num2,\"is Maximum Number\")\n",
    "elif num3>num1 and num3>num2 and num3>num4:\n",
    "    print(num3,\"is Maximum Number\")\n",
    "else:\n",
    "    print(num4,\"is Maximum Number\")\n",
    "    \n",
    "if num1<num2 and num1<num3 and num1<num4:\n",
    "    print(num1,\"is Minimum Number\")\n",
    "elif num2<num1 and num2<num3 and num2<num4:\n",
    "    print(num2,\"is Minimum Number\")\n",
    "elif num3<num1 and num3<num2 and num3<num4:\n",
    "    print(num3,\"is Minimum Number\")\n",
    "else:\n",
    "    print(num4,\"is Minimum Number\")"
   ]
  },
  {
   "cell_type": "markdown",
   "metadata": {},
   "source": [
    "### 03) WAP to input an integer number and check the last digit of number is even or odd."
   ]
  },
  {
   "cell_type": "code",
   "execution_count": 7,
   "metadata": {},
   "outputs": [
    {
     "name": "stdout",
     "output_type": "stream",
     "text": [
      "Enter Number :15489\n",
      "Last Digit of Number is Odd Digit\n"
     ]
    }
   ],
   "source": [
    "num=int(input(\"Enter Number :\"))\n",
    "if (num%10)%2==0:\n",
    "    print(\"Last Digit of Number is Even Digit\")\n",
    "else:\n",
    "    print(\"Last Digit of Number is Odd Digit\")"
   ]
  },
  {
   "cell_type": "markdown",
   "metadata": {},
   "source": [
    "### 04) WAP to determine the roots of the equation ax2+bx+c=0."
   ]
  },
  {
   "cell_type": "code",
   "execution_count": null,
   "metadata": {},
   "outputs": [],
   "source": []
  }
 ],
 "metadata": {
  "kernelspec": {
   "display_name": "Python 3 (ipykernel)",
   "language": "python",
   "name": "python3"
  },
  "language_info": {
   "codemirror_mode": {
    "name": "ipython",
    "version": 3
   },
   "file_extension": ".py",
   "mimetype": "text/x-python",
   "name": "python",
   "nbconvert_exporter": "python",
   "pygments_lexer": "ipython3",
   "version": "3.9.13"
  }
 },
 "nbformat": 4,
 "nbformat_minor": 4
}
